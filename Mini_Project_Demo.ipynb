{
 "cells": [
  {
   "cell_type": "markdown",
   "id": "c5534893",
   "metadata": {},
   "source": [
    "# Populating Database"
   ]
  },
  {
   "cell_type": "code",
   "execution_count": null,
   "id": "c2d73429",
   "metadata": {},
   "outputs": [],
   "source": [
    "from pathlib import Path\n",
    "\n",
    "root  = Path(r\"C:\\Users\\Ryan Soklaski\\Desktop\\Ryan's Music\")\n",
    "\n",
    "songs = [\n",
    "    root / \"AFI\" / \"Black Sails in the Sunset - A.F.I\" / \"Track 11 - AFI.mp3\",\n",
    "    root / \"Battles\" / \"Gloss Drop\" / \"03 - Futura.mp3\",\n",
    "    root / \"Future Islands\" / \"Singles\" / \"04 - Doves.mp3\",\n",
    "]\n",
    "\n",
    "names = [\"At a Glance\", \"Futura\", \"Doves\"]"
   ]
  },
  {
   "cell_type": "code",
   "execution_count": null,
   "id": "0394ecc8",
   "metadata": {},
   "outputs": [],
   "source": [
    "from audio import load_song_file\n",
    "from database import create_database, add_song_to_database, save_db"
   ]
  },
  {
   "cell_type": "code",
   "execution_count": 3,
   "id": "6ff9ecfa",
   "metadata": {},
   "outputs": [
    {
     "name": "stderr",
     "output_type": "stream",
     "text": [
      "C:\\Users\\Ryan Soklaski\\Anaconda3\\envs\\audio2022\\lib\\site-packages\\librosa\\util\\decorators.py:88: UserWarning: PySoundFile failed. Trying audioread instead.\n",
      "  return f(*args, **kwargs)\n",
      "C:\\Users\\Ryan Soklaski\\Anaconda3\\envs\\audio2022\\lib\\site-packages\\librosa\\util\\decorators.py:88: UserWarning: PySoundFile failed. Trying audioread instead.\n",
      "  return f(*args, **kwargs)\n"
     ]
    }
   ],
   "source": [
    "db = create_database()\n",
    "\n",
    "for file_path, name in zip(songs, names):\n",
    "    samples, sampling_rate = load_song_file(file_path)\n",
    "    add_song_to_database(samples, sampling_rate, song_name=name, db=db)\n",
    "\n",
    "save_db(db, \"test_songdb.pkl\")"
   ]
  },
  {
   "cell_type": "markdown",
   "id": "b868a6fe",
   "metadata": {},
   "source": [
    "## Querying Database"
   ]
  },
  {
   "cell_type": "code",
   "execution_count": 1,
   "id": "1f72fb72",
   "metadata": {},
   "outputs": [],
   "source": [
    "from database import load_db, fingerprints_to_matches, match_recording\n",
    "\n",
    "db = load_db(\"test_songdb.pkl\")"
   ]
  },
  {
   "cell_type": "code",
   "execution_count": 4,
   "id": "3c721fbe",
   "metadata": {},
   "outputs": [
    {
     "name": "stdout",
     "output_type": "stream",
     "text": [
      "No microphone configuration file found, attempting to find default device..\n",
      "Using input device 'Microphone Array (Realtek High '\n",
      "Recording ended\n"
     ]
    },
    {
     "data": {
      "text/plain": [
       "'Futura'"
      ]
     },
     "execution_count": 4,
     "metadata": {},
     "output_type": "execute_result"
    }
   ],
   "source": [
    "match_recording(10, db=db)"
   ]
  }
 ],
 "metadata": {
  "kernelspec": {
   "display_name": "Python 3 (ipykernel)",
   "language": "python",
   "name": "python3"
  },
  "language_info": {
   "codemirror_mode": {
    "name": "ipython",
    "version": 3
   },
   "file_extension": ".py",
   "mimetype": "text/x-python",
   "name": "python",
   "nbconvert_exporter": "python",
   "pygments_lexer": "ipython3",
   "version": "3.8.13"
  }
 },
 "nbformat": 4,
 "nbformat_minor": 5
}
